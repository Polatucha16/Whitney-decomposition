{
 "cells": [
  {
   "cell_type": "code",
   "execution_count": 1,
   "id": "a00afe47-8029-477e-bdb9-c257bee7138f",
   "metadata": {},
   "outputs": [],
   "source": [
    "# Copyright (c) <2022>, <Polatucha16>"
   ]
  },
  {
   "cell_type": "code",
   "execution_count": 1,
   "id": "19eca60a-da83-4bfd-a678-dcf46fbc61d1",
   "metadata": {},
   "outputs": [],
   "source": [
    "import numpy as np\n",
    "from numpy import linalg as LA\n",
    "import networkx as nx\n",
    "\n",
    "import matplotlib.pyplot as plt\n",
    "import matplotlib.collections\n",
    "\n",
    "\n",
    "\n",
    "from shapes import Ball, Plane\n",
    "from func import *\n",
    "from holes_setup import *"
   ]
  },
  {
   "cell_type": "code",
   "execution_count": 2,
   "id": "cf451cf1-a6d1-4ba6-aba6-1fdcc1ddbdd0",
   "metadata": {},
   "outputs": [],
   "source": [
    "# 1 - parameter family of planes\n",
    "def planes_fun(t):\n",
    "    default_ori = np.array([[1,0,0],[0,0,1],[0,-1,0]]) \n",
    "    return Plane( np.array([[0,t,0]]), default_ori)"
   ]
  },
  {
   "cell_type": "code",
   "execution_count": 3,
   "id": "50151911-cb88-4589-9c6e-0e4b9aae8d51",
   "metadata": {},
   "outputs": [
    {
     "data": {
      "application/vnd.jupyter.widget-view+json": {
       "model_id": "c5712cdcebe746b68600b6b795acdee9",
       "version_major": 2,
       "version_minor": 0
      },
      "text/plain": [
       "interactive(children=(FloatSlider(value=0.43, description='t', layout=Layout(width='70%'), max=2.0, min=-2.0, …"
      ]
     },
     "metadata": {},
     "output_type": "display_data"
    },
    {
     "data": {
      "text/plain": [
       "<function __main__.drawing_function(t, balls_3D, holes, planes_fam)>"
      ]
     },
     "execution_count": 3,
     "metadata": {},
     "output_type": "execute_result"
    }
   ],
   "source": [
    "from ipywidgets import interact, Layout, FloatSlider, fixed\n",
    "import matplotlib.collections\n",
    "\n",
    "def drawing_function(t, balls_3D, holes, planes_fam): #draws intersection between plane family planes and balls family balls\n",
    "    \n",
    "    # some image options:\n",
    "    fig, ax = plt.subplots(1,1,figsize=(10, 10)) # note we must use plt.subplots, not plt.subplot\n",
    "    ax.set_aspect(aspect = 1)\n",
    "    plt.xlim(-2,2)\n",
    "    plt.ylim(-2,2)\n",
    "    \n",
    "    circs = [] #list of circles to draw\n",
    "    planes = planes_fam(t)\n",
    "    \n",
    "    for i in balls_3D:\n",
    "        ball_2D = class_ball_plane_intersection(i, planes)\n",
    "        if ball_2D.rad > 0:\n",
    "            circs.append(plt.Circle(ball_2D.cen, ball_2D.rad , color='blue', fill = False ))\n",
    "    circ_collection = matplotlib.collections.PatchCollection(circs, match_original = True )\n",
    "    ax.add_collection(circ_collection)\n",
    "    \n",
    "    circs_red = []\n",
    "    for i in holes:\n",
    "        ball_2D = class_ball_plane_intersection(i, planes)\n",
    "        if ball_2D.rad > 0:\n",
    "            circs_red.append(plt.Circle(ball_2D.cen, ball_2D.rad , color='red', fill = False ))\n",
    "    circ_collection_red = matplotlib.collections.PatchCollection(circs_red, match_original = True )\n",
    "    ax.add_collection(circ_collection_red)\n",
    "    plt.show()\n",
    "    return\n",
    "\n",
    "# variable balls are made in data.ipynb and saved on IPython’s database, we have to restore balls list.\n",
    "%store -r\n",
    "\n",
    "interact(drawing_function, t=FloatSlider(min=-2, max=2, step=0.001, value=0.43, layout=Layout(width='70%')), \n",
    "                            balls_3D = fixed(balls),\n",
    "                            holes = fixed(holes),\n",
    "                            planes_fam = fixed(planes_fun)\n",
    "        )"
   ]
  },
  {
   "cell_type": "code",
   "execution_count": 22,
   "id": "aa520d93-97dc-48b5-a887-bceba3becfd7",
   "metadata": {},
   "outputs": [],
   "source": []
  }
 ],
 "metadata": {
  "kernelspec": {
   "display_name": "Python 3 (ipykernel)",
   "language": "python",
   "name": "python3"
  },
  "language_info": {
   "codemirror_mode": {
    "name": "ipython",
    "version": 3
   },
   "file_extension": ".py",
   "mimetype": "text/x-python",
   "name": "python",
   "nbconvert_exporter": "python",
   "pygments_lexer": "ipython3",
   "version": "3.9.12"
  }
 },
 "nbformat": 4,
 "nbformat_minor": 5
}
