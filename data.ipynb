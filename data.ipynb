{
 "cells": [
  {
   "cell_type": "code",
   "execution_count": 11,
   "id": "07072357-259e-4566-ac3b-e05099f35b37",
   "metadata": {},
   "outputs": [],
   "source": [
    "# Copyright (c) <2022>, <Polatucha16>"
   ]
  },
  {
   "cell_type": "code",
   "execution_count": 14,
   "id": "296a4f0b-f1ef-4d1d-8ec6-64135fd89b93",
   "metadata": {},
   "outputs": [],
   "source": [
    "import numpy as np\n",
    "from numpy import linalg as LA\n",
    "import networkx as nx\n",
    "\n",
    "from shapes import Ball, Plane\n",
    "from func import *\n",
    "from holes_setup import *"
   ]
  },
  {
   "cell_type": "code",
   "execution_count": 12,
   "id": "2f21d5ac-6c4c-4367-9533-7fa8c117b7ac",
   "metadata": {},
   "outputs": [
    {
     "name": "stdout",
     "output_type": "stream",
     "text": [
      "Stored 'balls' (list)\n",
      "Stored 'holes' (list)\n",
      "There are  15649  balls.\n"
     ]
    }
   ],
   "source": [
    "# List of balls to avoid \n",
    "holes = [Ball(np.array([[ 0.52, 0.63,-0.64]]), 0.7), \n",
    "         Ball(np.array([[-0.72,-0.47, 0.42]]), 0.5),\n",
    "         Ball(np.array([[-0.30,-0.70,-0.27]]), 0.9)\n",
    "        ]\n",
    "\n",
    "# Creation of decomposition \n",
    "\n",
    "cubes = nx.Graph()\n",
    "cubes.add_node((0,0,0), gen=-1, final= False)\n",
    "parent = (0,0,0)\n",
    "\n",
    "balls = [] \n",
    "whitney_cover(holes, cubes, (0,0,0), 5, balls)\n",
    "\n",
    "%store balls\n",
    "%store holes\n",
    "\n",
    "print(\"There are \",len(balls),\" balls.\")"
   ]
  },
  {
   "cell_type": "code",
   "execution_count": 13,
   "id": "1458d896-5eaf-48ac-b8a3-fd16b2a5c19c",
   "metadata": {},
   "outputs": [
    {
     "data": {
      "text/plain": [
       "[<classes.Ball at 0x248e03eb9a0>,\n",
       " <classes.Ball at 0x248e03eba00>,\n",
       " <classes.Ball at 0x248e03ebb20>]"
      ]
     },
     "execution_count": 13,
     "metadata": {},
     "output_type": "execute_result"
    }
   ],
   "source": [
    "holes"
   ]
  },
  {
   "cell_type": "code",
   "execution_count": null,
   "id": "b54ba71b-d7cb-480b-bf73-3805a3da3472",
   "metadata": {},
   "outputs": [],
   "source": []
  }
 ],
 "metadata": {
  "kernelspec": {
   "display_name": "Python 3 (ipykernel)",
   "language": "python",
   "name": "python3"
  },
  "language_info": {
   "codemirror_mode": {
    "name": "ipython",
    "version": 3
   },
   "file_extension": ".py",
   "mimetype": "text/x-python",
   "name": "python",
   "nbconvert_exporter": "python",
   "pygments_lexer": "ipython3",
   "version": "3.9.12"
  }
 },
 "nbformat": 4,
 "nbformat_minor": 5
}
